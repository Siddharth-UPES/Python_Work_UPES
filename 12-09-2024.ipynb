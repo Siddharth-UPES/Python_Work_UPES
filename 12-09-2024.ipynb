{
 "cells": [
  {
   "cell_type": "markdown",
   "id": "005b381d-0171-4427-abbc-a5dee24ba85e",
   "metadata": {},
   "source": [
    "### Use of OS module\n",
    "#### Write a program that takes directory address from user and returns a list of file names in thart directory we have to use os module to perform this actions"
   ]
  },
  {
   "cell_type": "code",
   "execution_count": 2,
   "id": "10ba7ee2-2334-4019-96f8-9b2acb2dc0a8",
   "metadata": {},
   "outputs": [
    {
     "name": "stdin",
     "output_type": "stream",
     "text": [
      "Enter the directory path:  D:\\Git Demo\\Python_UPES\\Class_Practise\n"
     ]
    },
    {
     "name": "stdout",
     "output_type": "stream",
     "text": [
      "Files in the directory:\n",
      ".git\n",
      ".ipynb_checkpoints\n",
      "02-09-2024.ipynb\n",
      "09-09-2024.ipynb\n",
      "12-09-2024.ipynb\n",
      "29-08-2024.ipynb\n",
      "2q\n",
      "Assignment_1.ipynb\n",
      "Assignment_2.ipynb\n",
      "cls\n",
      "cmd_screen.png\n",
      "first.py\n",
      "firstr.py\n",
      "first_pro.ipynb\n",
      "index.html\n",
      "main.py\n",
      "push command.txt\n",
      "Python_Assignment\n",
      "README.md\n",
      "screen_1.png\n",
      "sidd.ipynb\n",
      "sidd.py\n",
      "test_file.py\n",
      "Untitled.ipynb\n"
     ]
    }
   ],
   "source": [
    "import os\n",
    "\n",
    "def list_files_in_directory():\n",
    "    # Taking directory address input from the user\n",
    "    directory = input(\"Enter the directory path: \")\n",
    "    \n",
    "    try:\n",
    "        # Checking if the directory exists\n",
    "        if os.path.exists(directory):\n",
    "            # Listing files in the directory\n",
    "            files = os.listdir(directory)\n",
    "            print(\"Files in the directory:\")\n",
    "            for file in files:\n",
    "                print(file)\n",
    "        else:\n",
    "            print(\"The directory does not exist.\")\n",
    "    \n",
    "    except Exception as e:\n",
    "        print(f\"An error occurred: {e}\")\n",
    "\n",
    "# Call the function to list files\n",
    "list_files_in_directory()\n"
   ]
  },
  {
   "cell_type": "code",
   "execution_count": 9,
   "id": "38304efd-da03-452e-818b-820950b3c9f7",
   "metadata": {},
   "outputs": [
    {
     "name": "stdin",
     "output_type": "stream",
     "text": [
      "Enter Location D:\\Git Demo\\Python_UPES\\Class_Practise\n"
     ]
    }
   ],
   "source": [
    "\n",
    "import os\n",
    "#help(os)\n",
    "\n",
    "address = input(\"Enter Location\")\n",
    "\n",
    "#address =\"D:\\Git Demo\\Python_UPES\\Class_Practise\""
   ]
  },
  {
   "cell_type": "code",
   "execution_count": 13,
   "id": "0aec9856-4945-4c00-9ff0-608b5308927a",
   "metadata": {},
   "outputs": [
    {
     "data": {
      "text/plain": [
       "['.git',\n",
       " '.ipynb_checkpoints',\n",
       " '02-09-2024.ipynb',\n",
       " '09-09-2024.ipynb',\n",
       " '12-09-2024.ipynb',\n",
       " '29-08-2024.ipynb',\n",
       " '2q',\n",
       " 'Assignment_1.ipynb',\n",
       " 'Assignment_2.ipynb',\n",
       " 'cls',\n",
       " 'cmd_screen.png',\n",
       " 'first.py',\n",
       " 'firstr.py',\n",
       " 'first_pro.ipynb',\n",
       " 'index.html',\n",
       " 'main.py',\n",
       " 'push command.txt',\n",
       " 'Python_Assignment',\n",
       " 'README.md',\n",
       " 'screen_1.png',\n",
       " 'sidd.ipynb',\n",
       " 'sidd.py',\n",
       " 'test_file.py',\n",
       " 'Untitled.ipynb']"
      ]
     },
     "execution_count": 13,
     "metadata": {},
     "output_type": "execute_result"
    }
   ],
   "source": [
    "os.chdir(address) #changeg working dir\n",
    "list_of_files=os.listdir() # list files in dir\n",
    "list_of_files\n"
   ]
  },
  {
   "cell_type": "code",
   "execution_count": null,
   "id": "e833ee54-5c85-4c4b-9c32-9f5d457eb160",
   "metadata": {},
   "outputs": [],
   "source": []
  },
  {
   "cell_type": "code",
   "execution_count": 14,
   "id": "98a8a498-809d-4b76-b6af-0a73e75f8356",
   "metadata": {},
   "outputs": [],
   "source": [
    "#generate email address using SAP ID\n",
    "# SAP ID 123456789\n",
    "# Email 12345@stu.upes.ac.in\n",
    "\n",
    "#using \n",
    "#   1-> Functions for/loop\n",
    "#  2-> map/filter and lambda\n",
    "#\n",
    "#  3-> list comprehension\n",
    "\n",
    "SAP_IDs =[15663,15789,14567]\n",
    "list_of_emails= #your logic\n"
   ]
  },
  {
   "cell_type": "markdown",
   "id": "1b79895a-a9e7-4140-a8dd-a54ff782e49f",
   "metadata": {},
   "source": [
    "# Generating Emails"
   ]
  },
  {
   "cell_type": "markdown",
   "id": "9e480757-77fa-4f82-894c-c31c385657b6",
   "metadata": {},
   "source": [
    "#### Write a function that reads  list of email addressing using list of SAP ID"
   ]
  },
  {
   "cell_type": "code",
   "execution_count": 18,
   "id": "5c54926e-e7d8-4dd3-aa59-912fbf4e9c65",
   "metadata": {},
   "outputs": [
    {
     "data": {
      "text/plain": [
       "['15663@stu.upes.ac.in', '15789@stu.upes.ac.in', '14567@stu.upes.ac.in']"
      ]
     },
     "execution_count": 18,
     "metadata": {},
     "output_type": "execute_result"
    }
   ],
   "source": [
    "# 1st logic\n",
    "SAP_IDs=[15663,15789,14567]\n",
    "def id2email(id):\n",
    "    return str(id) + \"@stu.upes.ac.in\"\n",
    "\n",
    "def SAP_IDs_to_email(sapids):\n",
    "    emails=[]\n",
    "    for id in SAP_IDs:\n",
    "        email=id2email(id)\n",
    "        emails.append(email)\n",
    "        \n",
    "    return emails\n",
    "\n",
    "list_of_emails=SAP_IDs_to_email(SAP_IDs)\n",
    "list_of_emails"
   ]
  },
  {
   "cell_type": "code",
   "execution_count": 22,
   "id": "5d622f33-4920-4ab7-948f-a6e02a0eab0a",
   "metadata": {},
   "outputs": [
    {
     "data": {
      "text/plain": [
       "['15663@stu.upes.ac.in', '15789@stu.upes.ac.in', '14567@stu.upes.ac.in']"
      ]
     },
     "execution_count": 22,
     "metadata": {},
     "output_type": "execute_result"
    }
   ],
   "source": [
    "# 1st logic\n",
    "SAP_IDs=[15663,15789,14567]\n",
    "def id2email(id):\n",
    "    return str(id) + \"@stu.upes.ac.in\"\n",
    "\n",
    "emails=[]\n",
    "for id in SAP_IDs:\n",
    "        email=id2email(id)\n",
    "        emails.append(email)\n",
    "\n",
    "list_of_emails=SAP_IDs_to_email(SAP_IDs)\n",
    "list_of_emails"
   ]
  },
  {
   "cell_type": "code",
   "execution_count": 29,
   "id": "834bb7e3-552e-4cd5-8850-3898f5fda11c",
   "metadata": {},
   "outputs": [
    {
     "data": {
      "text/plain": [
       "<map at 0x291a3f2ae60>"
      ]
     },
     "execution_count": 29,
     "metadata": {},
     "output_type": "execute_result"
    }
   ],
   "source": [
    "# 2nd logic\n",
    "SAP_IDs=[15663,15789,14567]\n",
    "def id2email(id):\n",
    "    return str(id) + \"@stu.upes.ac.in\"\n",
    "\n",
    "#list_of_emails=map(id2email,SAP_IDs) # for python2\n",
    "\n",
    "list_of_email = list(map(id2email,SAP_IDs)) # for python3\n",
    "list_of_emails"
   ]
  },
  {
   "cell_type": "code",
   "execution_count": 30,
   "id": "aca4a8d8-a748-4ffe-a204-86a6d5766e12",
   "metadata": {},
   "outputs": [
    {
     "data": {
      "text/plain": [
       "<map at 0x291a3f2ae60>"
      ]
     },
     "execution_count": 30,
     "metadata": {},
     "output_type": "execute_result"
    }
   ],
   "source": [
    "# 2nd logic using lambda function and map\n",
    "SAP_IDs=[15663,15789,14567]\n",
    "\n",
    "list_of_email = list(map(lambda id: str(id)+ \"@stu.upes.ac.in\",SAP_IDs)) # for python3\n",
    "list_of_emails"
   ]
  },
  {
   "cell_type": "code",
   "execution_count": 35,
   "id": "5e6b6ca2-c900-44f1-80d8-9ca412666e06",
   "metadata": {},
   "outputs": [
    {
     "data": {
      "text/plain": [
       "['15663@stu.upes.ac.in', '15789@stu.upes.ac.in', '14567@stu.upes.ac.in']"
      ]
     },
     "execution_count": 35,
     "metadata": {},
     "output_type": "execute_result"
    }
   ],
   "source": [
    "# 3rd logic using list comprehension\n",
    "SAP_IDs=[15663,15789,14567]\n",
    "\n",
    "#list_of_email = list(map(lambda id: str(id)+ \"@stu.upes.ac.in\",SAP_IDs)) # for python3\n",
    "list_of_emails = [f\"{id}@stu.upes.ac.in\" for id in SAP_IDs]\n",
    "list_of_emails"
   ]
  },
  {
   "cell_type": "code",
   "execution_count": null,
   "id": "56589eb1-58ee-4cbf-aadf-3d9f04e602dc",
   "metadata": {},
   "outputs": [],
   "source": []
  }
 ],
 "metadata": {
  "kernelspec": {
   "display_name": "Python 3 (ipykernel)",
   "language": "python",
   "name": "python3"
  },
  "language_info": {
   "codemirror_mode": {
    "name": "ipython",
    "version": 3
   },
   "file_extension": ".py",
   "mimetype": "text/x-python",
   "name": "python",
   "nbconvert_exporter": "python",
   "pygments_lexer": "ipython3",
   "version": "3.12.4"
  }
 },
 "nbformat": 4,
 "nbformat_minor": 5
}
