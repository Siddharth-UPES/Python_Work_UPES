{
 "cells": [
  {
   "cell_type": "code",
   "execution_count": null,
   "id": "d82047e3-9de4-4261-98f4-a09babe4e6a9",
   "metadata": {},
   "outputs": [],
   "source": [
    "counter=0\n",
    "\n",
    "def increment():\n",
    "    global counter\n",
    "    counter +=1"
   ]
  },
  {
   "cell_type": "code",
   "execution_count": null,
   "id": "cefcc47d-b312-41f4-a04c-4340af2f43e0",
   "metadata": {},
   "outputs": [],
   "source": [
    "increment()\n",
    "print(counter) # Output:1"
   ]
  },
  {
   "cell_type": "code",
   "execution_count": null,
   "id": "a801a008-2e94-44aa-a15e-0222dfeed17e",
   "metadata": {},
   "outputs": [],
   "source": [
    "def modify_immutable(x):\n",
    "    x +=1\n",
    "    print(f\"Inside function: {x}\")"
   ]
  },
  {
   "cell_type": "code",
   "execution_count": null,
   "id": "8799a2ca-d802-41a6-8016-8d5ae84ce75a",
   "metadata": {},
   "outputs": [],
   "source": [
    "a=5\n",
    "modify_immutable(a)\n",
    "print(f\"Outside_function: {a}\")"
   ]
  },
  {
   "cell_type": "code",
   "execution_count": null,
   "id": "97ee2b45-993c-4c31-84c2-31f7d024cb92",
   "metadata": {},
   "outputs": [],
   "source": [
    "def modify_mutable(1st):\n",
    "    list.append(4)\n",
    "    print(f\"Inside function {1st}\")"
   ]
  },
  {
   "cell_type": "code",
   "execution_count": null,
   "id": "f124a557-08ae-40d0-b461-33a7ed7b97ba",
   "metadata": {},
   "outputs": [],
   "source": [
    "my_list =[1,2,3]\n",
    "modify_"
   ]
  },
  {
   "cell_type": "code",
   "execution_count": null,
   "id": "d35765ba-2932-4624-a9e9-12519c9674c2",
   "metadata": {},
   "outputs": [],
   "source": [
    "def square(x):\n",
    "    return x * XAssigning a function to a variable\n",
    "\n",
    "f=square\n",
    "print(f(5))\n",
    "\n",
    "def apply_function(func ,value):\n",
    "    return func(value)"
   ]
  },
  {
   "cell_type": "code",
   "execution_count": null,
   "id": "4cb853ea-8e86-4ceb-80c7-06035f45facc",
   "metadata": {},
   "outputs": [],
   "source": [
    "result=apply_function(square,4)\n",
    "print(result)"
   ]
  },
  {
   "cell_type": "code",
   "execution_count": null,
   "id": "7e2ac3cf-115f-47f3-bce9-4315406998c6",
   "metadata": {},
   "outputs": [],
   "source": [
    "def double (x):\n",
    "    return x* 2\n",
    "def triple(x):\n",
    "    return x*3\n",
    "def apply_operation(func,number):\n",
    "    return func(number)"
   ]
  },
  {
   "cell_type": "code",
   "execution_count": null,
   "id": "77e60e63-76c6-4f00-91d2-69668eb2d25a",
   "metadata": {},
   "outputs": [],
   "source": [
    "print(apply_operation(double ,5))\n",
    "print(apply_operation(triple ,5))"
   ]
  },
  {
   "cell_type": "code",
   "execution_count": 4,
   "id": "d3b92885-56bc-4f9b-8950-2c47ee15bc1b",
   "metadata": {},
   "outputs": [
    {
     "name": "stdout",
     "output_type": "stream",
     "text": [
      "8\n"
     ]
    }
   ],
   "source": [
    "# lambda function to add two numbers\n",
    "add = lambda a, b: a+b\n",
    "print(add(3,5)) # "
   ]
  },
  {
   "cell_type": "code",
   "execution_count": 7,
   "id": "a1264c65-e669-48e0-a11d-d531ceb8692f",
   "metadata": {},
   "outputs": [
    {
     "name": "stdout",
     "output_type": "stream",
     "text": [
      "[1, 4, 9, 16, 25]\n"
     ]
    }
   ],
   "source": [
    "numbers =[1,2,3,4,5]\n",
    "squared = map(lambda x :  x*x ,numbers)\n",
    "print(list(squared))"
   ]
  },
  {
   "cell_type": "markdown",
   "id": "f1d7798e-ecd8-43b6-9a6c-350db09c144c",
   "metadata": {},
   "source": [
    "### write a function to multiply 3 numbers and returns its result  using lamda function\n"
   ]
  },
  {
   "cell_type": "code",
   "execution_count": 8,
   "id": "55096352-e31d-41e3-84ce-056d6c63e117",
   "metadata": {},
   "outputs": [
    {
     "name": "stdout",
     "output_type": "stream",
     "text": [
      "60\n"
     ]
    }
   ],
   "source": [
    "#using the lambda function multiplication of 3 number\n",
    "multiply = lambda a,b,c: a*b*c\n",
    "print(multiply(3,4,5))"
   ]
  },
  {
   "cell_type": "code",
   "execution_count": 12,
   "id": "052a0c92-d57d-481b-94bf-3d081a35d211",
   "metadata": {},
   "outputs": [
    {
     "name": "stdout",
     "output_type": "stream",
     "text": [
      "[1, 4, 9, 16, 25, 36, 49, 64, 81, 100]\n"
     ]
    }
   ],
   "source": [
    "# unsing map  to sequare each number in a list\n",
    "numbers=[1,2,3,4,5,6,7,8,9,10]\n",
    "squared = map(lambda x:x*x,numbers) # map applies a given function of an iterable and return map object\n",
    "print(list(squared))"
   ]
  },
  {
   "cell_type": "code",
   "execution_count": 13,
   "id": "5557acd4-8cbb-4c2b-927b-919aa33b13ac",
   "metadata": {},
   "outputs": [
    {
     "name": "stdout",
     "output_type": "stream",
     "text": [
      "[2, 4, 6, 8, 10]\n"
     ]
    }
   ],
   "source": [
    "even_numbers=filter(lambda x:x % 2 == 0 , numbers)# filter applies a given function of an iterable and return filter object containing only the items that returns"
   ]
  },
  {
   "cell_type": "code",
   "execution_count": 14,
   "id": "880c1991-f1d7-4f57-aca6-af49c153b6fe",
   "metadata": {},
   "outputs": [],
   "source": [
    "#Creating a list square of even numbers only\n",
    "squares = []\n",
    "for i in range(10):\n",
    "    if i%2==0:\n",
    "        squares.append(i**2)"
   ]
  },
  {
   "cell_type": "code",
   "execution_count": 15,
   "id": "e937b9bc-f384-4a44-82c6-54331afb753b",
   "metadata": {},
   "outputs": [
    {
     "name": "stdout",
     "output_type": "stream",
     "text": [
      "[0, 4, 16, 36, 64]\n"
     ]
    }
   ],
   "source": [
    "print(squares)"
   ]
  },
  {
   "cell_type": "code",
   "execution_count": 18,
   "id": "afcb97da-f138-4543-9efb-b475c09b84ea",
   "metadata": {},
   "outputs": [
    {
     "name": "stdout",
     "output_type": "stream",
     "text": [
      "[0, 4, 16, 36, 64]\n"
     ]
    }
   ],
   "source": [
    "# The same functionality using list comprehension\n",
    "squares=[i**2 for i in range(10) if i%2==0]\n",
    "print(squares)"
   ]
  },
  {
   "cell_type": "code",
   "execution_count": null,
   "id": "deb35f21-603e-412e-a811-b48bb54fd406",
   "metadata": {},
   "outputs": [],
   "source": []
  },
  {
   "cell_type": "code",
   "execution_count": null,
   "id": "176ff332-59ed-4149-b703-53d7a459b166",
   "metadata": {},
   "outputs": [],
   "source": []
  }
 ],
 "metadata": {
  "kernelspec": {
   "display_name": "Python 3 (ipykernel)",
   "language": "python",
   "name": "python3"
  },
  "language_info": {
   "codemirror_mode": {
    "name": "ipython",
    "version": 3
   },
   "file_extension": ".py",
   "mimetype": "text/x-python",
   "name": "python",
   "nbconvert_exporter": "python",
   "pygments_lexer": "ipython3",
   "version": "3.12.4"
  }
 },
 "nbformat": 4,
 "nbformat_minor": 5
}
