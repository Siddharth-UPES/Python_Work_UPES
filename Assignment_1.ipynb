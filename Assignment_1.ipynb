{
 "cells": [
  {
   "cell_type": "markdown",
   "id": "786d0cbf",
   "metadata": {},
   "source": [
    "# Python Assignment 1"
   ]
  },
  {
   "cell_type": "markdown",
   "id": "6af03e90",
   "metadata": {},
   "source": [
    "## Introduction to Python Basic and Syntax"
   ]
  },
  {
   "cell_type": "markdown",
   "id": "c124e32a",
   "metadata": {},
   "source": [
    "#### Question 1:  Write a Python script that prints your name, course name, and the Python version you're using.\n"
   ]
  },
  {
   "cell_type": "markdown",
   "id": "a16b90dc",
   "metadata": {},
   "source": [
    "![Output 1](screen_1.png)"
   ]
  },
  {
   "cell_type": "markdown",
   "id": "81fd806e-8aa9-4402-92a4-39ec0285f651",
   "metadata": {},
   "source": [
    "![output](cmd_screen.png)"
   ]
  },
  {
   "cell_type": "markdown",
   "id": "37d1c0d0-ecf8-489e-b6bf-07fdf8069892",
   "metadata": {},
   "source": [
    "### Question 2 : Write a Python Script thats prints \"Hello, Python World!\"."
   ]
  },
  {
   "cell_type": "code",
   "execution_count": 1,
   "id": "15f42c3f-e77a-4cc2-bc71-cb019f461763",
   "metadata": {},
   "outputs": [
    {
     "name": "stdout",
     "output_type": "stream",
     "text": [
      "Hello, Python World!\n"
     ]
    }
   ],
   "source": [
    "print(\"Hello, Python World!\")"
   ]
  },
  {
   "cell_type": "markdown",
   "id": "6be300d9-b763-4f76-85e0-58faa6301e9f",
   "metadata": {},
   "source": [
    "## Basic Python Syntax\n",
    "### String Operation"
   ]
  },
  {
   "cell_type": "markdown",
   "id": "2909be8a-95e0-4847-bb99-72d27e4bd96c",
   "metadata": {},
   "source": [
    "\n",
    "#### Question 3: Write a Python program that takes a user's first and last name as input and prints them in reverse order with a space between them.\n",
    "#### Use at least two string methods and explain their purpose in the comments."
   ]
  },
  {
   "cell_type": "code",
   "execution_count": 12,
   "id": "4d813dca-7724-46e7-98c9-875eb59c4f50",
   "metadata": {},
   "outputs": [
    {
     "name": "stdin",
     "output_type": "stream",
     "text": [
      "Enter your first name:  siddharth\n",
      "Enter your last name:  kumar\n"
     ]
    },
    {
     "name": "stdout",
     "output_type": "stream",
     "text": [
      "KUMAR SIDDHARTH\n"
     ]
    }
   ],
   "source": [
    "# Printing to reverse and print the user's first and last name\n",
    "\n",
    "# Taking input from user as first name\n",
    "first_name = input(\"Enter your first name: \")\n",
    "# Taking input from user as last name\n",
    "last_name = input(\"Enter your last name: \")\n",
    "\n",
    "# Using the strip() method to remove any extra unwanted whitespace.\n",
    "first_name = first_name.strip()\n",
    "last_name = last_name.strip()\n",
    "\n",
    "# using capitalize method to make sure the first letter of the name is capital.\n",
    "first_name = first_name.upper()\n",
    "last_name = last_name.upper()\n",
    "\n",
    "\n",
    "# Printing the name in reverse order with a space between them.\n",
    "print(last_name + \" \" + first_name)\n"
   ]
  },
  {
   "cell_type": "markdown",
   "id": "8af36f37-56d4-4ca9-80ff-3cbfe725340d",
   "metadata": {},
   "source": [
    "## Numeric Data Types and Conversion Function"
   ]
  },
  {
   "cell_type": "markdown",
   "id": "5a096bcd-9f5a-4564-8c29-566539af970f",
   "metadata": {},
   "source": [
    "#### Question 4:  Write a Python program that takes an input number from the user, converts it to different numeric data types (integer, float, and complex), and displays the converted values.Explain the difference between these data types in comments.\n",
    "#### Explain the difference between these data types in comments."
   ]
  },
  {
   "cell_type": "code",
   "execution_count": 4,
   "id": "4f67417f-7e1c-41a3-9368-c05ee26c547a",
   "metadata": {},
   "outputs": [
    {
     "name": "stdin",
     "output_type": "stream",
     "text": [
      "Enter a number:  25\n"
     ]
    },
    {
     "name": "stdout",
     "output_type": "stream",
     "text": [
      "Integer value: 25\n",
      "Float value: 25.0\n",
      "Complex value: (25+0j)\n"
     ]
    }
   ],
   "source": [
    "# taking input from user\n",
    "user_input = input(\"Enter a number: \")\n",
    "\n",
    "# Converting input to different  numeric datatypes\n",
    "# to integer\n",
    "int_value = int(float(user_input)) \n",
    "# to float\n",
    "float_value = float(user_input)\n",
    "# to complex number\n",
    "complex_value = complex(user_input)\n",
    "\n",
    "# Printing the converted values\n",
    "print(f\"Integer value: {int_value}\")\n",
    "print(f\"Float value: {float_value}\")\n",
    "print(f\"Complex value: {complex_value}\")\n",
    "\n",
    "# Explanation of different numeric data types:\n",
    "\n",
    "# Integer (int): used to represent whole numbers e.g., 1,2,6,-10\n",
    "\n",
    "# Float (float): used to represent numbers with decimal points, e.g., 0.5,-2.7\n",
    "\n",
    "# Complex (complex): used to specify imaginary literals by appending a “j” (e.g., 5 + 2j). \n"
   ]
  },
  {
   "cell_type": "markdown",
   "id": "998ae233-62f5-40be-b9f0-eacdb369f4e4",
   "metadata": {},
   "source": [
    "### Simple Input and Output"
   ]
  },
  {
   "cell_type": "markdown",
   "id": "0f95f1c7-60c0-46e0-9c33-e9aa272fcf6a",
   "metadata": {},
   "source": [
    "#### Question 5: Create a Python script that calculates the area of a rectangle. The script should:\n",
    "#### Prompt the user to enter the length and width of the rectangle.\n",
    "#### Calculate the area.\n",
    "#### Display the result using the print function."
   ]
  },
  {
   "cell_type": "code",
   "execution_count": 8,
   "id": "0440afba-1200-4dd9-8ac2-4981d4ceaf10",
   "metadata": {},
   "outputs": [
    {
     "name": "stdin",
     "output_type": "stream",
     "text": [
      "Enter the length of the rectangle:  10\n",
      "Enter the width of the rectangle:  23.8\n"
     ]
    },
    {
     "name": "stdout",
     "output_type": "stream",
     "text": [
      "The area of the rectangle is: 238.0\n"
     ]
    }
   ],
   "source": [
    "\n",
    "# Taking input from user for length and width of the rectangle\n",
    "length = float(input(\"Enter the length of the rectangle: \"))\n",
    "width = float(input(\"Enter the width of the rectangle: \"))\n",
    "\n",
    "# Calculate the area of the rectangle\n",
    "area = length * width\n",
    "\n",
    "# Printing the area of rectangle\n",
    "print(f\"The area of the rectangle is: {area}\")"
   ]
  },
  {
   "cell_type": "markdown",
   "id": "3b125b98-4106-44bc-a8fc-31417f4eae8d",
   "metadata": {},
   "source": [
    "### Using the format method\n",
    "#### Modify the rectangle area program to format the output so that it displays the  area with two  decimal places.\n"
   ]
  },
  {
   "cell_type": "code",
   "execution_count": 9,
   "id": "c5a75bd8-3b90-4877-8608-5c8dc45333e9",
   "metadata": {},
   "outputs": [
    {
     "name": "stdout",
     "output_type": "stream",
     "text": [
      "The area of the rectangle is: 238.00 \n"
     ]
    }
   ],
   "source": [
    "# using the % method and print function\n",
    "print(\"The area of the rectangle is: %.2f \" % area)"
   ]
  },
  {
   "cell_type": "markdown",
   "id": "08ea9ced-665e-4ff5-9920-b1da42c0bcb6",
   "metadata": {},
   "source": [
    "### The % Method and print Function\n",
    "#### Question 6 : Write a Python script that takes three numbers as input and prints their average using the % methods for string formatting.\n",
    "#### Also, use the print function to display a message that states, \"The average of the three numbers is: [calculated average]\"."
   ]
  },
  {
   "cell_type": "code",
   "execution_count": 11,
   "id": "66e7dbed-6006-4028-ac90-e6371f4ad4f7",
   "metadata": {},
   "outputs": [
    {
     "name": "stdin",
     "output_type": "stream",
     "text": [
      "Enter the first number:  20\n",
      "Enter the second number:  40\n",
      "Enter the third number:  60\n"
     ]
    },
    {
     "name": "stdout",
     "output_type": "stream",
     "text": [
      "The average of the three numbers is: 40.00\n"
     ]
    }
   ],
   "source": [
    "# Taking the user to enter three numbers\n",
    "num1 = float(input(\"Enter the first number: \"))\n",
    "num2 = float(input(\"Enter the second number: \"))\n",
    "num3 = float(input(\"Enter the third number: \"))\n",
    "\n",
    "# average of the three numbers\n",
    "average = (num1 + num2 + num3) / 3\n",
    "\n",
    "# printing the result using % formatting and displaying the message\n",
    "print(\"The average of the three numbers is: %.2f\" % average)\n"
   ]
  },
  {
   "cell_type": "markdown",
   "id": "d43fcf46-1777-4119-8bc9-70920779b092",
   "metadata": {},
   "source": [
    "## Language Components\n",
    "### Control Flow (if statements and loops)\n",
    "#### Question 7 : Write a python program that asks the user for a number and determines whether it is positive, negative, or zero.\n",
    "#### Implement a loop that continues to ask the user for a number until they enter 'exit'.\n",
    "#### Use break to exit the loop and continue to prompt for a new number if the input is not 'exit'."
   ]
  },
  {
   "cell_type": "code",
   "execution_count": 10,
   "id": "7fbafa09-2ea3-4ce3-9d03-322526612e9f",
   "metadata": {},
   "outputs": [
    {
     "name": "stdin",
     "output_type": "stream",
     "text": [
      "Enter a number (or type 'exit' to quit):  45\n"
     ]
    },
    {
     "name": "stdout",
     "output_type": "stream",
     "text": [
      "The number is positive.\n"
     ]
    },
    {
     "name": "stdin",
     "output_type": "stream",
     "text": [
      "Enter a number (or type 'exit' to quit):  -98\n"
     ]
    },
    {
     "name": "stdout",
     "output_type": "stream",
     "text": [
      "The number is negative.\n"
     ]
    },
    {
     "name": "stdin",
     "output_type": "stream",
     "text": [
      "Enter a number (or type 'exit' to quit):  0\n"
     ]
    },
    {
     "name": "stdout",
     "output_type": "stream",
     "text": [
      "The number is zero.\n"
     ]
    },
    {
     "name": "stdin",
     "output_type": "stream",
     "text": [
      "Enter a number (or type 'exit' to quit):  -909\n"
     ]
    },
    {
     "name": "stdout",
     "output_type": "stream",
     "text": [
      "The number is negative.\n"
     ]
    },
    {
     "name": "stdin",
     "output_type": "stream",
     "text": [
      "Enter a number (or type 'exit' to quit):  exit\n"
     ]
    },
    {
     "name": "stdout",
     "output_type": "stream",
     "text": [
      "Exiting the program.\n"
     ]
    }
   ],
   "source": [
    "# define a function \n",
    "def main():\n",
    "    while True:\n",
    "        # Taking input from the user\n",
    "        user_input = input(\"Enter a number (or type 'exit' to quit): \")\n",
    "        \n",
    "        # Check if the user wants to exit or quit\n",
    "        if user_input.lower() == 'exit':\n",
    "            print(\"Exiting the program.\")\n",
    "            break\n",
    "        \n",
    "        # Attempt to convert the input to a number\n",
    "        try:\n",
    "            number = float(user_input)\n",
    "        except ValueError:\n",
    "            print(\"Invalid input. Please enter a valid number or type 'exit' to quit.\")\n",
    "            continue\n",
    "        \n",
    "        # Determine if the number is positive, negative, or zero\n",
    "        if number > 0:\n",
    "            print(\"The number is positive.\")\n",
    "        elif number < 0:\n",
    "            print(\"The number is negative.\")\n",
    "        else:\n",
    "            print(\"The number is zero.\")\n",
    "\n",
    "if __name__ == \"__main__\":\n",
    "    main()\n"
   ]
  },
  {
   "cell_type": "markdown",
   "id": "1f02cd51-39a7-4ccd-8d67-df49678b8259",
   "metadata": {},
   "source": [
    "### Relational and Logical Operators\n",
    "#### Question 8 : Create a Python script that takes two numbers as input and prints whether both numbers are even, odd, or one of each using relational and logical operators."
   ]
  },
  {
   "cell_type": "code",
   "execution_count": 5,
   "id": "f4b315f0-3bf5-4e3a-8153-e0e6d3960ee2",
   "metadata": {},
   "outputs": [
    {
     "name": "stdin",
     "output_type": "stream",
     "text": [
      "Enter the first number:  56\n",
      "Enter the second number:  89\n"
     ]
    },
    {
     "name": "stdout",
     "output_type": "stream",
     "text": [
      "One number is even and the other is odd.\n"
     ]
    }
   ],
   "source": [
    "# Function to check if a number is even\n",
    "def is_even(number):\n",
    "    return number % 2 == 0\n",
    "\n",
    "# Function to check if a number is odd\n",
    "def is_odd(number):\n",
    "    return number % 2 != 0\n",
    "\n",
    "# Prompt the user to enter two numbers\n",
    "num1 = float(input(\"Enter the first number: \"))\n",
    "num2 = float(input(\"Enter the second number: \"))\n",
    "\n",
    "# using logical operators to check user input\n",
    "if is_even(num1) and is_even(num2):\n",
    "    print(\"Both numbers are even.\")\n",
    "elif is_odd(num1) and is_odd(num2):\n",
    "    print(\"Both numbers are odd.\")\n",
    "else:\n",
    "    print(\"One number is even and the other is odd.\")\n"
   ]
  },
  {
   "cell_type": "markdown",
   "id": "0796e7eb-e1ec-4c45-a7fa-2750aaa52a6b",
   "metadata": {},
   "source": [
    "### For Loop and Bitwise Operators\n",
    "#### Question 9 : Write a Python program that takes an integer input and prints its binary, octal, and hexadecimal equivalents using a lot for loop and bitwise operators."
   ]
  },
  {
   "cell_type": "code",
   "execution_count": 7,
   "id": "cb06b49c-4450-49e6-a165-89dd478fd780",
   "metadata": {},
   "outputs": [
    {
     "name": "stdin",
     "output_type": "stream",
     "text": [
      "Enter an integer:  89\n"
     ]
    },
    {
     "name": "stdout",
     "output_type": "stream",
     "text": [
      "Binary representation: 1011001\n",
      "Octal representation: 131\n",
      "Hexadecimal representation: 59\n"
     ]
    }
   ],
   "source": []
  },
  {
   "cell_type": "code",
   "execution_count": 1,
   "id": "56d44110-7329-4e76-93fd-0efdb0d7f6b1",
   "metadata": {},
   "outputs": [
    {
     "name": "stdin",
     "output_type": "stream",
     "text": [
      "Enter an integer:  34\n"
     ]
    },
    {
     "name": "stdout",
     "output_type": "stream",
     "text": [
      "Binary equivalent: 100010\n",
      "Octal equivalent: 42\n",
      "Hexadecimal equivalent: 22\n"
     ]
    }
   ],
   "source": [
    "# def function call the user input number from convert_number\n",
    "def convert_number(num):\n",
    "    # Binary conversion\n",
    "    binary = \"\"\n",
    "    for i in range(num.bit_length()):\n",
    "        # Extract each bit using the right shift (>>) and bitwise AND (&)\n",
    "        binary = str((num >> i) & 1) + binary\n",
    "\n",
    "    # Octal conversion\n",
    "    octal = \"\"\n",
    "    for i in range(0, num.bit_length(), 3):  # Process 3 bits at a time\n",
    "        octal_digit = (num >> i) & 0b111  # Extract 3 bits\n",
    "        octal = str(octal_digit) + octal\n",
    "\n",
    "    # Hexadecimal conversion\n",
    "    hex_map = \"0123456789ABCDEF\"  # Map for hexadecimal digits\n",
    "    hexa = \"\"\n",
    "    for i in range(0, num.bit_length(), 4):  # Process 4 bits at a time\n",
    "        hex_digit = (num >> i) & 0b1111  # Extract 4 bits\n",
    "        hexa = hex_map[hex_digit] + hexa\n",
    "\n",
    "    return binary, octal, hexa\n",
    "\n",
    "\n",
    "# Input from the user\n",
    "number = int(input(\"Enter an integer: \"))\n",
    "\n",
    "# Convert the number\n",
    "binary, octal, hexa = convert_number(number)\n",
    "\n",
    "# Print the results\n",
    "print(f\"Binary equivalent: {binary}\")\n",
    "print(f\"Octal equivalent: {octal}\")\n",
    "print(f\"Hexadecimal equivalent: {hexa}\")\n"
   ]
  },
  {
   "cell_type": "code",
   "execution_count": null,
   "id": "f5b6a2c1-109f-450e-b255-31116050401a",
   "metadata": {},
   "outputs": [],
   "source": []
  }
 ],
 "metadata": {
  "kernelspec": {
   "display_name": "Python 3 (ipykernel)",
   "language": "python",
   "name": "python3"
  },
  "language_info": {
   "codemirror_mode": {
    "name": "ipython",
    "version": 3
   },
   "file_extension": ".py",
   "mimetype": "text/x-python",
   "name": "python",
   "nbconvert_exporter": "python",
   "pygments_lexer": "ipython3",
   "version": "3.12.4"
  }
 },
 "nbformat": 4,
 "nbformat_minor": 5
}
