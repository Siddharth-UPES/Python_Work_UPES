{
  "nbformat": 4,
  "nbformat_minor": 0,
  "metadata": {
    "colab": {
      "provenance": []
    },
    "kernelspec": {
      "name": "python3",
      "display_name": "Python 3"
    },
    "language_info": {
      "name": "python"
    }
  },
  "cells": [
    {
      "cell_type": "markdown",
      "source": [
        "# Python Assignment 2"
      ],
      "metadata": {
        "id": "r1gv7mXNYMxC"
      }
    },
    {
      "cell_type": "markdown",
      "source": [
        "### *Q1 Basic function Implementation*"
      ],
      "metadata": {
        "id": "bQtF9Ur5Z58o"
      }
    },
    {
      "cell_type": "markdown",
      "source": [
        "#### ***Write a function greet that takes two arguments: name (a string) and greeting (a string with a default value of \"Hello\"). The function should return a greeting message.***"
      ],
      "metadata": {
        "id": "GpL9UOiQYxd9"
      }
    },
    {
      "cell_type": "code",
      "source": [
        "def greet(name, greeting=\"HELLO\"):\n",
        "    print(f\"{greeting} {name}\")\n",
        "\n",
        "greet(\"Siddharth Kumar\")\n",
        "greet(\"Siddharth Kumar\", \"Hi (•_•)\")"
      ],
      "metadata": {
        "colab": {
          "base_uri": "https://localhost:8080/"
        },
        "id": "91q5nHYrYzoV",
        "outputId": "22b5805e-846f-484b-e029-2660a29c0c29"
      },
      "execution_count": null,
      "outputs": [
        {
          "output_type": "stream",
          "name": "stdout",
          "text": [
            "HELLO Siddharth Kumar\n",
            "Hi (•_•) Siddharth Kumar\n"
          ]
        }
      ]
    },
    {
      "cell_type": "code",
      "source": [],
      "metadata": {
        "id": "rx_XKYP4ZcTT"
      },
      "execution_count": null,
      "outputs": []
    }
  ]
}