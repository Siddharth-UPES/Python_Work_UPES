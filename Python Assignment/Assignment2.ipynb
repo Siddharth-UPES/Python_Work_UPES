{
 "cells": [
  {
   "cell_type": "markdown",
   "metadata": {},
   "source": [
    "# Python Assignment 2"
   ]
  },
  {
   "cell_type": "markdown",
   "metadata": {},
   "source": [
    "#### Q1 Basic Function Implementation:"
   ]
  },
  {
   "cell_type": "markdown",
   "metadata": {},
   "source": [
    "***Write a function greet that takes two arguments:name (a string) and  greeting (a string with a default value of \"Hello\"). The function should return a greeting message.***"
   ]
  },
  {
   "cell_type": "code",
   "execution_count": 1,
   "metadata": {},
   "outputs": [
    {
     "name": "stdout",
     "output_type": "stream",
     "text": [
      "Hello Alice\n",
      "Good Morning Bob\n"
     ]
    }
   ],
   "source": [
    "def greet(name, greeting=\"Hello\"): #Variable greeting have a default value \"hello\"\n",
    "    return f\"{greeting} {name}\" # Using string formating\n",
    "print(greet(\"Alice\"))\n",
    "print(greet(\"Bob\", \"Good Morning\"))"
   ]
  },
  {
   "cell_type": "markdown",
   "metadata": {},
   "source": [
    "#### Q2 Named Arguments:"
   ]
  },
  {
   "cell_type": "markdown",
   "metadata": {},
   "source": [
    "***Create a function  create_profile that takes arguments for name ,age and city as named arguments. The function should return a string like \"Name: Alice, Age: 25, City: New York\". Ensure that the age argument has a default value of 18.*** "
   ]
  },
  {
   "cell_type": "code",
   "execution_count": 2,
   "metadata": {},
   "outputs": [
    {
     "name": "stdout",
     "output_type": "stream",
     "text": [
      "Name: John, Age: 18, City: Chicago\n",
      "Name: Emma, Age: 22, City: Los Angeles\n"
     ]
    }
   ],
   "source": [
    "#Creating a function name as create_profile\n",
    "def create_profile(name, city, age=18): #Age variable store a default value 18\n",
    "    return f\"Name: {name}, Age: {age}, City: {city}\"\n",
    "    \n",
    "print(create_profile(name=\"John\", city=\"Chicago\"))              \n",
    "print(create_profile(name=\"Emma\", age=22, city=\"Los Angeles\"))"
   ]
  },
  {
   "cell_type": "markdown",
   "metadata": {},
   "source": [
    "#### Q3 Using *args and **kwargs:"
   ]
  },
  {
   "cell_type": "markdown",
   "metadata": {},
   "source": [
    "***Write a function sum_numbers that takes any number of positional arguments*** (*args) and keyword arguments (**kwargs)."
   ]
  },
  {
   "cell_type": "code",
   "execution_count": 10,
   "metadata": {},
   "outputs": [
    {
     "name": "stdout",
     "output_type": "stream",
     "text": [
      "6\n",
      "(3, {'x': 4, 'y': 5})\n"
     ]
    }
   ],
   "source": [
    "#creating a function \"sum_numbers\"\n",
    "def sum_numbers(*args, **kwargs):\n",
    "    # Filter and sum positional arguments that are numbers\n",
    "    sum_args = sum(arg for arg in args if isinstance(arg, (int, float)))\n",
    "    # Return only the sum if no keyword arguments are passed and sum also\n",
    "    return (sum_args, kwargs) if kwargs else sum_args\n",
    "\n",
    "print(sum_numbers(1, 2, 3))          \n",
    "print(sum_numbers(1, 2, x=4, y=5)) "
   ]
  },
  {
   "cell_type": "markdown",
   "metadata": {},
   "source": [
    "#### Q4 Lambdas and Map:"
   ]
  },
  {
   "cell_type": "markdown",
   "metadata": {},
   "source": [
    "***Write a function that uses map and a lambda to return a list where each element is squared.***"
   ]
  },
  {
   "cell_type": "code",
   "execution_count": 4,
   "metadata": {},
   "outputs": [
    {
     "name": "stdout",
     "output_type": "stream",
     "text": [
      "[1, 4, 9, 16]\n"
     ]
    }
   ],
   "source": [
    "#lambda function\n",
    "def square_list(numbers):#squaring the numbers present in the list\n",
    "    return list(map(lambda x: x**2, numbers)) #returning the squares of the number where the function was called\n",
    "\n",
    "print(square_list([1, 2, 3, 4]))"
   ]
  },
  {
   "cell_type": "markdown",
   "metadata": {},
   "source": [
    "#### Q5 Filter and Lambdas:"
   ]
  },
  {
   "cell_type": "markdown",
   "metadata": {},
   "source": [
    "***Write a function that filters out all odd numbers from a list using filter and a lambda function.***"
   ]
  },
  {
   "cell_type": "code",
   "execution_count": null,
   "metadata": {},
   "outputs": [],
   "source": [
    "#creating a function that takes list as an arguement\n",
    "def filter_odd_numbers(numbers):\n",
    "    return list(filter(lambda x: x % 2 == 0, numbers)) #checking whether the number in numbers are divisible by 2\n",
    "print(filter_odd_numbers([1, 2, 3, 4, 5])) "
   ]
  },
  {
   "cell_type": "markdown",
   "metadata": {},
   "source": [
    "#### Q6 Basic List Comprehension:"
   ]
  },
  {
   "cell_type": "markdown",
   "metadata": {},
   "source": [
    "***Create a list comprehension that takes a list of numbers and returns a list of their squares.***"
   ]
  },
  {
   "cell_type": "code",
   "execution_count": 5,
   "metadata": {},
   "outputs": [
    {
     "name": "stdout",
     "output_type": "stream",
     "text": [
      "[0, 1, 4, 9, 16]\n"
     ]
    }
   ],
   "source": [
    "\n",
    "squares = [x**2 for x in range(5)]\n",
    "print(squares)"
   ]
  },
  {
   "cell_type": "markdown",
   "metadata": {},
   "source": [
    "#### Q7 List Comprehension with Condition:"
   ]
  },
  {
   "cell_type": "markdown",
   "metadata": {},
   "source": [
    "***Use a list comprehension to create a list of even numbers from 1 to 20.***"
   ]
  },
  {
   "cell_type": "code",
   "execution_count": 6,
   "metadata": {},
   "outputs": [
    {
     "name": "stdout",
     "output_type": "stream",
     "text": [
      "[2, 4, 6, 8, 10, 12, 14, 16, 18, 20]\n"
     ]
    }
   ],
   "source": [
    "evens = [x for x in range(1, 21) if x % 2 == 0]\n",
    "print(evens)"
   ]
  },
  {
   "cell_type": "markdown",
   "metadata": {},
   "source": [
    "#### Q8 Using OS and time Modules:"
   ]
  },
  {
   "cell_type": "markdown",
   "metadata": {},
   "source": [
    "***Write a function file_operations that creates a directory named \"test_folder\" using os.makedirs() Then, pause the execution for 3 seconds using time.sleep()  and finally, delete the directory using os.rmdir()***"
   ]
  },
  {
   "cell_type": "code",
   "execution_count": 7,
   "metadata": {},
   "outputs": [
    {
     "name": "stdout",
     "output_type": "stream",
     "text": [
      "Folder created.\n",
      "Folder deleted.\n"
     ]
    }
   ],
   "source": [
    "#importing time and os modules\n",
    "import os\n",
    "import time\n",
    "\n",
    "#creating non parametrized function, file_operations\n",
    "def file_operations():\n",
    "\n",
    "     #creating a new directory\n",
    "    os.makedirs(\"test_folder\", exist_ok=True) #cretaed a directory named as test_folder\n",
    "    print(\"Folder created.\")\n",
    "    time.sleep(3) #using sleep function from time module to stop the execution for 3 sec\n",
    "    \n",
    "    #removing a directory\n",
    "    os.rmdir(\"test_folder\")\n",
    "    print(\"Folder deleted.\")\n",
    "\n",
    "file_operations()"
   ]
  },
  {
   "cell_type": "markdown",
   "metadata": {},
   "source": [
    "#### Q9 Importing Specific Functions:"
   ]
  },
  {
   "cell_type": "markdown",
   "metadata": {},
   "source": [
    "***Write a Python script that imports only*** sleep ***from the*** time ***module and renames it to***  pause  ***Use it to pause execution for 2 seconds and print \"Paused execution...\".***"
   ]
  },
  {
   "cell_type": "code",
   "execution_count": 8,
   "metadata": {},
   "outputs": [
    {
     "name": "stdout",
     "output_type": "stream",
     "text": [
      "Paused execution...\n"
     ]
    }
   ],
   "source": [
    "#importing the function, sleep from time module and rename as pause\n",
    "from time import sleep as pause\n",
    "\n",
    "pause(2) #pauses the execution for 2 sec\n",
    "print(\"Paused execution...\") "
   ]
  },
  {
   "cell_type": "markdown",
   "metadata": {},
   "source": [
    "#### Q10 Recursive Function with *args and **kwargs (Flattening a List):"
   ]
  },
  {
   "cell_type": "markdown",
   "metadata": {},
   "source": [
    "***Write a recursive function flatten_list that can flatten a nested list of any depth using*** *args and **kwargs. "
   ]
  },
  {
   "cell_type": "code",
   "execution_count": 9,
   "metadata": {},
   "outputs": [
    {
     "name": "stdout",
     "output_type": "stream",
     "text": [
      "[1, 2, 3, 4, 5, 6]\n",
      "[1, 2, 3, 4, 5]\n"
     ]
    }
   ],
   "source": [
    "#creating a function that converts nested list into simple list\n",
    "def flatten_list(nested_list):\n",
    "    #uses *args to handle any number of arguments\n",
    "    flat_list = [] #creating an empty list\n",
    "\n",
    "    for item in nested_list:\n",
    "        if isinstance(item, list): #cheking whether each element is a list or a simple number\n",
    "            flat_list.extend(flatten_list(item))\n",
    "        else:\n",
    "            flat_list.append(item) #directly adding the element in the list if its not a list\n",
    "    return flat_list\n",
    "\n",
    "# Example Usage:\n",
    "print(flatten_list([1, [2, 3], [[4, 5], 6]]))\n",
    "print(flatten_list([[1, 2], [3, [4, [5]]]]))  "
   ]
  }
 ],
 "metadata": {
  "kernelspec": {
   "display_name": "Python 3",
   "language": "python",
   "name": "python3"
  },
  "language_info": {
   "codemirror_mode": {
    "name": "ipython",
    "version": 3
   },
   "file_extension": ".py",
   "mimetype": "text/x-python",
   "name": "python",
   "nbconvert_exporter": "python",
   "pygments_lexer": "ipython3",
   "version": "3.12.4"
  }
 },
 "nbformat": 4,
 "nbformat_minor": 2
}
